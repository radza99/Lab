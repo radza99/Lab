{
  "nbformat": 4,
  "nbformat_minor": 0,
  "metadata": {
    "colab": {
      "provenance": [],
      "mount_file_id": "1rwvgi29g7ewAnGxQ-auJ8k0pwlPr12VB",
      "authorship_tag": "ABX9TyNJnngR8DRPVCdzNqftwkc9",
      "include_colab_link": true
    },
    "kernelspec": {
      "name": "python3",
      "display_name": "Python 3"
    },
    "language_info": {
      "name": "python"
    }
  },
  "cells": [
    {
      "cell_type": "markdown",
      "metadata": {
        "id": "view-in-github",
        "colab_type": "text"
      },
      "source": [
        "<a href=\"https://colab.research.google.com/github/radza99/Lab/blob/main/Logistic%20regression%20with%20Vectorization.ipynb\" target=\"_parent\"><img src=\"https://colab.research.google.com/assets/colab-badge.svg\" alt=\"Open In Colab\"/></a>"
      ]
    },
    {
      "cell_type": "code",
      "execution_count": 1,
      "metadata": {
        "colab": {
          "base_uri": "https://localhost:8080/"
        },
        "id": "MqRkKKeH_Eeh",
        "outputId": "4d7f2e0c-6b96-4d8f-dcd0-d70633e3d18e"
      },
      "outputs": [
        {
          "output_type": "stream",
          "name": "stdout",
          "text": [
            "Mounted at /content/drive\n"
          ]
        }
      ],
      "source": [
        "from google.colab import drive\n",
        "drive.mount('/content/drive')"
      ]
    },
    {
      "cell_type": "code",
      "source": [
        "import os\n",
        "target_path = '/content/drive/MyDrive/work/release/W2A2'\n",
        "os.chdir(target_path)\n",
        "!ls"
      ],
      "metadata": {
        "colab": {
          "base_uri": "https://localhost:8080/"
        },
        "id": "KSv9oy8OAXfM",
        "outputId": "1f85af07-30d5-4b12-f1ee-49df18798f0b"
      },
      "execution_count": 2,
      "outputs": [
        {
          "output_type": "stream",
          "name": "stdout",
          "text": [
            "datasets\t\t\t\t\t\t lr_utils.py\n",
            "images\t\t\t\t\t\t\t public_tests.py\n",
            "Logistic_Regression_with_a_Neural_Network_mindset.ipynb  __pycache__\n"
          ]
        }
      ]
    },
    {
      "cell_type": "code",
      "source": [
        "import numpy as np\n",
        "import copy\n",
        "import matplotlib.pyplot as plt\n",
        "import h5py\n",
        "import scipy\n",
        "from PIL import Image\n",
        "from scipy import ndimage\n",
        "from lr_utils import load_dataset\n",
        "from public_tests import *\n",
        "\n",
        "%matplotlib inline\n",
        "%load_ext autoreload\n",
        "%autoreload 2"
      ],
      "metadata": {
        "id": "HJt2svUZGU92"
      },
      "execution_count": 3,
      "outputs": []
    },
    {
      "cell_type": "code",
      "source": [
        "# Loading the data (cat/non-cat)\n",
        "train_set_x_orig, train_set_y, test_set_x_orig, test_set_y, classes = load_dataset()"
      ],
      "metadata": {
        "id": "WW8jR9IdGno7"
      },
      "execution_count": 4,
      "outputs": []
    },
    {
      "cell_type": "code",
      "source": [
        "# Example of a picture\n",
        "index = 25\n",
        "plt.imshow(train_set_x_orig[index])\n",
        "print (\"y = \" + str(train_set_y[:, index]) + \", it's a '\" + classes[np.squeeze(train_set_y[:, index])].decode(\"utf-8\") +  \"' picture.\")"
      ],
      "metadata": {
        "colab": {
          "base_uri": "https://localhost:8080/",
          "height": 449
        },
        "id": "Ik44Go8gBJAc",
        "outputId": "cdacd2da-6545-4837-9688-bd972d9e202e"
      },
      "execution_count": 5,
      "outputs": [
        {
          "output_type": "stream",
          "name": "stdout",
          "text": [
            "y = [1], it's a 'cat' picture.\n"
          ]
        },
        {
          "output_type": "display_data",
          "data": {
            "text/plain": [
              "<Figure size 640x480 with 1 Axes>"
            ],
            "image/png": "[encoded data removed]"
          },
          "metadata": {}
        }
      ]
    },
    {
      "cell_type": "code",
      "source": [
        "#(≈ 3 lines of code)\n",
        "# m_train =\n",
        "# m_test =\n",
        "# num_px =\n",
        "# YOUR CODE STARTS HERE\n",
        "\n",
        "m_train = train_set_x_orig.shape[0]\n",
        "m_test = test_set_x_orig.shape[0]\n",
        "num_px = train_set_x_orig.shape[1]\n",
        "\n",
        "# YOUR CODE ENDS HERE\n",
        "\n",
        "\n",
        "\n",
        "print (\"Number of training examples: m_train = \" + str(m_train))\n",
        "print (\"Number of testing examples: m_test = \" + str(m_test))\n",
        "print (\"Height/Width of each image: num_px = \" + str(num_px))\n",
        "print (\"Each image is of size: (\" + str(num_px) + \", \" + str(num_px) + \", 3)\")\n",
        "print (\"train_set_x shape: \" + str(train_set_x_orig.shape))\n",
        "print (\"train_set_y shape: \" + str(train_set_y.shape))\n",
        "print (\"test_set_x shape: \" + str(test_set_x_orig.shape))\n",
        "print (\"test_set_y shape: \" + str(test_set_y.shape))\n"
      ],
      "metadata": {
        "colab": {
          "base_uri": "https://localhost:8080/"
        },
        "id": "QkTzDLnXHuk9",
        "outputId": "3de89f2e-34d7-4f00-f0a7-8a848a6d789b"
      },
      "execution_count": 6,
      "outputs": [
        {
          "output_type": "stream",
          "name": "stdout",
          "text": [
            "Number of training examples: m_train = 209\n",
            "Number of testing examples: m_test = 50\n",
            "Height/Width of each image: num_px = 64\n",
            "Each image is of size: (64, 64, 3)\n",
            "train_set_x shape: (209, 64, 64, 3)\n",
            "train_set_y shape: (1, 209)\n",
            "test_set_x shape: (50, 64, 64, 3)\n",
            "test_set_y shape: (1, 50)\n"
          ]
        }
      ]
    },
    {
      "cell_type": "code",
      "source": [
        "# Reshape the training and test examples\n",
        "#(≈ 2 lines of code)\n",
        "# train_set_x_flatten = ...\n",
        "# test_set_x_flatten = ...\n",
        "# YOUR CODE STARTS HERE\n",
        "train_set_x_flatten = train_set_x_orig.reshape(train_set_x_orig.shape[0], -1).T\n",
        "test_set_x_flatten = test_set_x_orig.reshape(test_set_x_orig.shape[0], -1).T\n",
        "\n",
        "# YOUR CODE ENDS HERE\n",
        "\n",
        "# Check that the first 10 pixels of the second image are in the correct place\n",
        "assert np.all(train_set_x_flatten[0:10, 1] == [196, 192, 190, 193, 186, 182, 188, 179, 174, 213]), \"Wrong solution. Use (X.shape[0], -1).T.\"\n",
        "assert np.all(test_set_x_flatten[0:10, 1] == [115, 110, 111, 137, 129, 129, 155, 146, 145, 159]), \"Wrong solution. Use (X.shape[0], -1).T.\"\n",
        "\n",
        "print (\"train_set_x_flatten shape: \" + str(train_set_x_flatten.shape))\n",
        "print (\"train_set_y shape: \" + str(train_set_y.shape))\n",
        "print (\"test_set_x_flatten shape: \" + str(test_set_x_flatten.shape))\n",
        "print (\"test_set_y shape: \" + str(test_set_y.shape))"
      ],
      "metadata": {
        "colab": {
          "base_uri": "https://localhost:8080/"
        },
        "id": "-4zm5FFFIA_y",
        "outputId": "fa935736-1baf-41bd-b9fc-10fbbd04bca0"
      },
      "execution_count": 7,
      "outputs": [
        {
          "output_type": "stream",
          "name": "stdout",
          "text": [
            "train_set_x_flatten shape: (12288, 209)\n",
            "train_set_y shape: (1, 209)\n",
            "test_set_x_flatten shape: (12288, 50)\n",
            "test_set_y shape: (1, 50)\n"
          ]
        }
      ]
    },
    {
      "cell_type": "code",
      "source": [
        "# GRADED FUNCTION: sigmoid\n",
        "\n",
        "def sigmoid(z):\n",
        "    \"\"\"\n",
        "    Compute the sigmoid of z\n",
        "\n",
        "    Arguments:\n",
        "    z -- A scalar or numpy array of any size.\n",
        "\n",
        "    Return:\n",
        "    s -- sigmoid(z)\n",
        "    \"\"\"\n",
        "\n",
        "    #(≈ 1 line of code)\n",
        "    # s = ...\n",
        "    # YOUR CODE STARTS HERE\n",
        "    s = 1 / (1 + np.exp(-z))\n",
        "\n",
        "    # YOUR CODE ENDS HERE\n",
        "\n",
        "    return s"
      ],
      "metadata": {
        "id": "wwlEHqx_Ika-"
      },
      "execution_count": 8,
      "outputs": []
    },
    {
      "cell_type": "code",
      "source": [
        "print (\"sigmoid([0, 2]) = \" + str(sigmoid(np.array([0,2]))))\n",
        "\n",
        "sigmoid_test(sigmoid)"
      ],
      "metadata": {
        "colab": {
          "base_uri": "https://localhost:8080/"
        },
        "id": "SahZ4CKvImuS",
        "outputId": "6657366a-3d7f-4709-9b1b-73ab50cebe28"
      },
      "execution_count": 9,
      "outputs": [
        {
          "output_type": "stream",
          "name": "stdout",
          "text": [
            "sigmoid([0, 2]) = [0.5        0.88079708]\n",
            "\u001b[92mAll tests passed!\n"
          ]
        }
      ]
    },
    {
      "cell_type": "code",
      "source": [
        "x = np.array([0.5, 0, 2.0])\n",
        "output = sigmoid(x)\n",
        "print(output)"
      ],
      "metadata": {
        "colab": {
          "base_uri": "https://localhost:8080/"
        },
        "id": "43GHmV-AInzE",
        "outputId": "154faae1-c562-465b-b107-57f49d5d8d08"
      },
      "execution_count": 10,
      "outputs": [
        {
          "output_type": "stream",
          "name": "stdout",
          "text": [
            "[0.62245933 0.5        0.88079708]\n"
          ]
        }
      ]
    },
    {
      "cell_type": "code",
      "source": [
        "# GRADED FUNCTION: initialize_with_zeros\n",
        "\n",
        "def initialize_with_zeros(dim):\n",
        "    \"\"\"\n",
        "    This function creates a vector of zeros of shape (dim, 1) for w and initializes b to 0.\n",
        "\n",
        "    Argument:\n",
        "    dim -- size of the w vector we want (or number of parameters in this case)\n",
        "\n",
        "    Returns:\n",
        "    w -- initialized vector of shape (dim, 1)\n",
        "    b -- initialized scalar (corresponds to the bias) of type float\n",
        "    \"\"\"\n",
        "\n",
        "    # (≈ 2 lines of code)\n",
        "    # w = ...\n",
        "    # b = ...\n",
        "    # YOUR CODE STARTS HERE\n",
        "    w=np.zeros((dim,1))\n",
        "    b=0.0\n",
        "\n",
        "    # YOUR CODE ENDS HERE\n",
        "\n",
        "    return w, b"
      ],
      "metadata": {
        "id": "CxwGRTpCIyu8"
      },
      "execution_count": 12,
      "outputs": []
    },
    {
      "cell_type": "code",
      "source": [
        "dim = 2\n",
        "w, b = initialize_with_zeros(dim)\n",
        "\n",
        "assert type(b) == float\n",
        "print (\"w = \" + str(w))\n",
        "print (\"b = \" + str(b))\n",
        "\n",
        "initialize_with_zeros_test_1(initialize_with_zeros)\n",
        "initialize_with_zeros_test_2(initialize_with_zeros)\n"
      ],
      "metadata": {
        "colab": {
          "base_uri": "https://localhost:8080/"
        },
        "id": "0GeeNiwLI1QR",
        "outputId": "bf34b361-f279-4f88-f88e-c93f5556aecf"
      },
      "execution_count": 13,
      "outputs": [
        {
          "output_type": "stream",
          "name": "stdout",
          "text": [
            "w = [[0.]\n",
            " [0.]]\n",
            "b = 0.0\n",
            "\u001b[92mFirst test passed!\n",
            "\u001b[92mSecond test passed!\n"
          ]
        }
      ]
    },
    {
      "cell_type": "code",
      "source": [
        "from re import A\n",
        "# GRADED FUNCTION: propagate\n",
        "\n",
        "def propagate(w, b, X, Y):\n",
        "    \"\"\"\n",
        "    Implement the cost function and its gradient for the propagation explained above\n",
        "\n",
        "    Arguments:\n",
        "    w -- weights, a numpy array of size (num_px * num_px * 3, 1)\n",
        "    b -- bias, a scalar\n",
        "    X -- data of size (num_px * num_px * 3, number of examples)\n",
        "    Y -- true \"label\" vector (containing 0 if non-cat, 1 if cat) of size (1, number of examples)\n",
        "\n",
        "    Return:\n",
        "    grads -- dictionary containing the gradients of the weights and bias\n",
        "            (dw -- gradient of the loss with respect to w, thus same shape as w)\n",
        "            (db -- gradient of the loss with respect to b, thus same shape as b)\n",
        "    cost -- negative log-likelihood cost for logistic regression\n",
        "\n",
        "    Tips:\n",
        "    - Write your code step by step for the propagation. np.log(), np.dot()\n",
        "    \"\"\"\n",
        "\n",
        "    m = X.shape[1]\n",
        "\n",
        "    # FORWARD PROPAGATION (FROM X TO COST)\n",
        "    #(≈ 2 lines of code)\n",
        "    # compute activation\n",
        "    # A = ...\n",
        "    # compute cost by using np.dot to perform multiplication.\n",
        "    # And don't use loops for the sum.\n",
        "    # cost = ...\n",
        "    # YOUR CODE STARTS HERE\n",
        "    A=sigmoid(np.dot(w.T,X)+b)\n",
        "    cost=(-1/m)*np.sum(Y*np.log(A)+(1-Y)*np.log(1-A))\n",
        "\n",
        "    # YOUR CODE ENDS HERE\n",
        "\n",
        "    # BACKWARD PROPAGATION (TO FIND GRAD)\n",
        "    #(≈ 2 lines of code)\n",
        "    # dw = ...\n",
        "    # db = ...\n",
        "    # YOUR CODE STARTS HERE\n",
        "    dw=(1/m)*np.dot(X,(A-Y).T)\n",
        "    db=(1/m)*np.sum(A-Y)\n",
        "\n",
        "    # YOUR CODE ENDS HERE\n",
        "    cost = np.squeeze(np.array(cost))\n",
        "\n",
        "\n",
        "    grads = {\"dw\": dw,\n",
        "             \"db\": db}\n",
        "\n",
        "    return grads, cost"
      ],
      "metadata": {
        "id": "CHrBGFoUJRqI"
      },
      "execution_count": 19,
      "outputs": []
    },
    {
      "cell_type": "code",
      "source": [
        "w =  np.array([[1.], [2]])\n",
        "b = 1.5\n",
        "\n",
        "# X is using 3 examples, with 2 features each\n",
        "# Each example is stacked column-wise\n",
        "X = np.array([[1., -2., -1.], [3., 0.5, -3.2]])\n",
        "Y = np.array([[1, 1, 0]])\n",
        "grads, cost = propagate(w, b, X, Y)\n",
        "\n",
        "assert type(grads[\"dw\"]) == np.ndarray\n",
        "assert grads[\"dw\"].shape == (2, 1)\n",
        "assert type(grads[\"db\"]) == np.float64\n",
        "\n",
        "\n",
        "print (\"dw = \" + str(grads[\"dw\"]))\n",
        "print (\"db = \" + str(grads[\"db\"]))\n",
        "print (\"cost = \" + str(cost))\n",
        "\n",
        "propagate_test(propagate)"
      ],
      "metadata": {
        "colab": {
          "base_uri": "https://localhost:8080/"
        },
        "id": "5swOcYgY4EpP",
        "outputId": "85b3255c-ae51-4447-c984-09bb95a36cb7"
      },
      "execution_count": 20,
      "outputs": [
        {
          "output_type": "stream",
          "name": "stdout",
          "text": [
            "dw = [[ 0.25071532]\n",
            " [-0.06604096]]\n",
            "db = -0.1250040450043965\n",
            "cost = 0.15900537707692405\n",
            "\u001b[92mAll tests passed!\n"
          ]
        }
      ]
    },
    {
      "cell_type": "code",
      "source": [
        "# GRADED FUNCTION: optimize\n",
        "\n",
        "def optimize(w, b, X, Y, num_iterations=100, learning_rate=0.009, print_cost=False):\n",
        "    \"\"\"\n",
        "    This function optimizes w and b by running a gradient descent algorithm\n",
        "\n",
        "    Arguments:\n",
        "    w -- weights, a numpy array of size (num_px * num_px * 3, 1)\n",
        "    b -- bias, a scalar\n",
        "    X -- data of shape (num_px * num_px * 3, number of examples)\n",
        "    Y -- true \"label\" vector (containing 0 if non-cat, 1 if cat), of shape (1, number of examples)\n",
        "    num_iterations -- number of iterations of the optimization loop\n",
        "    learning_rate -- learning rate of the gradient descent update rule\n",
        "    print_cost -- True to print the loss every 100 steps\n",
        "\n",
        "    Returns:\n",
        "    params -- dictionary containing the weights w and bias b\n",
        "    grads -- dictionary containing the gradients of the weights and bias with respect to the cost function\n",
        "    costs -- list of all the costs computed during the optimization, this will be used to plot the learning curve.\n",
        "\n",
        "    Tips:\n",
        "    You basically need to write down two steps and iterate through them:\n",
        "        1) Calculate the cost and the gradient for the current parameters. Use propagate().\n",
        "        2) Update the parameters using gradient descent rule for w and b.\n",
        "    \"\"\"\n",
        "\n",
        "    w = copy.deepcopy(w)\n",
        "    b = copy.deepcopy(b)\n",
        "\n",
        "    costs = []\n",
        "\n",
        "    for i in range(num_iterations):\n",
        "        # (≈ 1 lines of code)\n",
        "        # Cost and gradient calculation\n",
        "        # grads, cost = ...\n",
        "        # YOUR CODE STARTS HERE\n",
        "        grads, cost = propagate(w, b, X, Y)\n",
        "\n",
        "        # YOUR CODE ENDS HERE\n",
        "\n",
        "        # Retrieve derivatives from grads\n",
        "        dw = grads[\"dw\"]\n",
        "        db = grads[\"db\"]\n",
        "\n",
        "        # update rule (≈ 2 lines of code)\n",
        "        # w = ...\n",
        "        # b = ...\n",
        "        # YOUR CODE STARTS HERE\n",
        "        w = w - learning_rate * dw\n",
        "        b = b - learning_rate * db\n",
        "        dw = grads[\"dw\"]\n",
        "        db = grads[\"db\"]\n",
        "\n",
        "        # YOUR CODE ENDS HERE\n",
        "\n",
        "        # Record the costs\n",
        "        if i % 100 == 0:\n",
        "            costs.append(cost)\n",
        "\n",
        "            # Print the cost every 100 training iterations\n",
        "            if print_cost:\n",
        "                print (\"Cost after iteration %i: %f\" %(i, cost))\n",
        "\n",
        "    params = {\"w\": w,\n",
        "              \"b\": b}\n",
        "\n",
        "    grads = {\"dw\": dw,\n",
        "             \"db\": db}\n",
        "\n",
        "    return params, grads, costs"
      ],
      "metadata": {
        "id": "VBi9RETz4VBn"
      },
      "execution_count": 21,
      "outputs": []
    },
    {
      "cell_type": "code",
      "source": [
        "params, grads, costs = optimize(w, b, X, Y, num_iterations=100, learning_rate=0.009, print_cost=False)\n",
        "\n",
        "print (\"w = \" + str(params[\"w\"]))\n",
        "print (\"b = \" + str(params[\"b\"]))\n",
        "print (\"dw = \" + str(grads[\"dw\"]))\n",
        "print (\"db = \" + str(grads[\"db\"]))\n",
        "print(\"Costs = \" + str(costs))\n",
        "\n",
        "optimize_test(optimize)"
      ],
      "metadata": {
        "colab": {
          "base_uri": "https://localhost:8080/"
        },
        "id": "P7VzyRTO4bI6",
        "outputId": "8630ede0-321f-4bfa-ceda-ab4020f0792c"
      },
      "execution_count": 22,
      "outputs": [
        {
          "output_type": "stream",
          "name": "stdout",
          "text": [
            "w = [[0.80956046]\n",
            " [2.0508202 ]]\n",
            "b = 1.5948713189708588\n",
            "dw = [[ 0.17860505]\n",
            " [-0.04840656]]\n",
            "db = -0.08888460336847771\n",
            "Costs = [array(0.15900538)]\n",
            "\u001b[92mAll tests passed!\n"
          ]
        }
      ]
    },
    {
      "cell_type": "code",
      "source": [
        "# GRADED FUNCTION: predict\n",
        "\n",
        "def predict(w, b, X):\n",
        "    '''\n",
        "    Predict whether the label is 0 or 1 using learned logistic regression parameters (w, b)\n",
        "\n",
        "    Arguments:\n",
        "    w -- weights, a numpy array of size (num_px * num_px * 3, 1)\n",
        "    b -- bias, a scalar\n",
        "    X -- data of size (num_px * num_px * 3, number of examples)\n",
        "\n",
        "    Returns:\n",
        "    Y_prediction -- a numpy array (vector) containing all predictions (0/1) for the examples in X\n",
        "    '''\n",
        "\n",
        "    m = X.shape[1]\n",
        "    Y_prediction = np.zeros((1, m))\n",
        "    w = w.reshape(X.shape[0], 1)\n",
        "\n",
        "    # Compute vector \"A\" predicting the probabilities of a cat being present in the picture\n",
        "    #(≈ 1 line of code)\n",
        "    # A = ...\n",
        "    # YOUR CODE STARTS HERE\n",
        "    A = sigmoid(np.dot(w.T, X) + b)\n",
        "\n",
        "    # YOUR CODE ENDS HERE\n",
        "    for i in range(A.shape[1]):\n",
        "\n",
        "    # YOUR CODE ENDS HERE\n",
        "\n",
        "\n",
        "        # Convert probabilities A[0,i] to actual predictions p[0,i]\n",
        "        #(≈ 4 lines of code)\n",
        "        # if A[0, i] > ____ :\n",
        "        #     Y_prediction[0,i] =\n",
        "        # else:\n",
        "        #     Y_prediction[0,i] =\n",
        "        # YOUR CODE STARTS HERE\n",
        "        if A[0, i] > 0.5:\n",
        "            Y_prediction[0, i] = 1\n",
        "        else:\n",
        "            Y_prediction[0, i] = 0\n",
        "\n",
        "\n",
        "        # YOUR CODE ENDS HERE\n",
        "\n",
        "    return Y_prediction"
      ],
      "metadata": {
        "id": "5o6P_ojG7aGq"
      },
      "execution_count": 23,
      "outputs": []
    },
    {
      "cell_type": "code",
      "source": [
        "w = np.array([[0.1124579], [0.23106775]])\n",
        "b = -0.3\n",
        "X = np.array([[1., -1.1, -3.2],[1.2, 2., 0.1]])\n",
        "print (\"predictions = \" + str(predict(w, b, X)))\n",
        "\n",
        "predict_test(predict)"
      ],
      "metadata": {
        "colab": {
          "base_uri": "https://localhost:8080/"
        },
        "id": "P4K3sQ4O7vMH",
        "outputId": "0b76c378-5d66-4d20-d91b-3318266943d9"
      },
      "execution_count": 24,
      "outputs": [
        {
          "output_type": "stream",
          "name": "stdout",
          "text": [
            "predictions = [[1. 1. 0.]]\n",
            "\u001b[92mAll tests passed!\n"
          ]
        }
      ]
    },
    {
      "cell_type": "code",
      "source": [
        "# GRADED FUNCTION: model\n",
        "\n",
        "def model(X_train, Y_train, X_test, Y_test, num_iterations=2000, learning_rate=0.5, print_cost=False):\n",
        "    \"\"\"\n",
        "    Builds the logistic regression model by calling the function you've implemented previously\n",
        "\n",
        "    Arguments:\n",
        "    X_train -- training set represented by a numpy array of shape (num_px * num_px * 3, m_train)\n",
        "    Y_train -- training labels represented by a numpy array (vector) of shape (1, m_train)\n",
        "    X_test -- test set represented by a numpy array of shape (num_px * num_px * 3, m_test)\n",
        "    Y_test -- test labels represented by a numpy array (vector) of shape (1, m_test)\n",
        "    num_iterations -- hyperparameter representing the number of iterations to optimize the parameters\n",
        "    learning_rate -- hyperparameter representing the learning rate used in the update rule of optimize()\n",
        "    print_cost -- Set to True to print the cost every 100 iterations\n",
        "\n",
        "    Returns:\n",
        "    d -- dictionary containing information about the model.\n",
        "    \"\"\"\n",
        "    # (≈ 1 line of code)\n",
        "    # initialize parameters with zeros\n",
        "    # and use the \"shape\" function to get the first dimension of X_train\n",
        "    # w, b = ...\n",
        "\n",
        "    #(≈ 1 line of code)\n",
        "    # Gradient descent\n",
        "    # params, grads, costs = ...\n",
        "\n",
        "    # Retrieve parameters w and b from dictionary \"params\"\n",
        "    # w = ...\n",
        "    # b = ...\n",
        "\n",
        "    # Predict test/train set examples (≈ 2 lines of code)\n",
        "    # Y_prediction_test = ...\n",
        "    # Y_prediction_train = ...\n",
        "\n",
        "    # YOUR CODE STARTS HERE\n",
        "    w, b = initialize_with_zeros(X_train.shape[0])\n",
        "    params, grads, costs = optimize(w, b, X_train, Y_train, num_iterations, learning_rate, print_cost)\n",
        "    w = params[\"w\"]\n",
        "    b = params[\"b\"]\n",
        "    Y_prediction_test = predict(w, b, X_test)\n",
        "    Y_prediction_train = predict(w, b, X_train)\n",
        "\n",
        "    # YOUR CODE ENDS HERE\n",
        "\n",
        "    # Print train/test Errors\n",
        "    if print_cost:\n",
        "        print(\"train accuracy: {} %\".format(100 - np.mean(np.abs(Y_prediction_train - Y_train)) * 100))\n",
        "        print(\"test accuracy: {} %\".format(100 - np.mean(np.abs(Y_prediction_test - Y_test)) * 100))\n",
        "\n",
        "\n",
        "    d = {\"costs\": costs,\n",
        "         \"Y_prediction_test\": Y_prediction_test,\n",
        "         \"Y_prediction_train\" : Y_prediction_train,\n",
        "         \"w\" : w,\n",
        "         \"b\" : b,\n",
        "         \"learning_rate\" : learning_rate,\n",
        "         \"num_iterations\": num_iterations}\n",
        "\n",
        "    return d"
      ],
      "metadata": {
        "id": "oZi2Byju7xJr"
      },
      "execution_count": 25,
      "outputs": []
    },
    {
      "cell_type": "code",
      "source": [
        "from public_tests import *\n",
        "\n",
        "model_test(model)"
      ],
      "metadata": {
        "colab": {
          "base_uri": "https://localhost:8080/"
        },
        "id": "W_Y8A7b88HPL",
        "outputId": "bc699a78-02e2-43c2-d64d-48c276aa52f4"
      },
      "execution_count": 33,
      "outputs": [
        {
          "output_type": "stream",
          "name": "stdout",
          "text": [
            "\u001b[92mAll tests passed!\n"
          ]
        }
      ]
    },
    {
      "cell_type": "code",
      "source": [
        "logistic_regression_model = model(train_set_x_flatten, train_set_y, test_set_x_flatten, test_set_y, num_iterations=2000, learning_rate=0.005, print_cost=True)"
      ],
      "metadata": {
        "colab": {
          "base_uri": "https://localhost:8080/"
        },
        "id": "ffMsExzQ8-ru",
        "outputId": "3cbbbf53-66ed-48c5-cf86-11653f4855ab"
      },
      "execution_count": 40,
      "outputs": [
        {
          "output_type": "stream",
          "name": "stdout",
          "text": [
            "Cost after iteration 0: 0.693147\n",
            "Cost after iteration 100: 0.682443\n",
            "Cost after iteration 200: 0.674106\n",
            "Cost after iteration 300: 0.667605\n",
            "Cost after iteration 400: 0.662532\n",
            "Cost after iteration 500: 0.658567\n",
            "Cost after iteration 600: 0.655463\n",
            "Cost after iteration 700: 0.653030\n",
            "Cost after iteration 800: 0.651121\n",
            "Cost after iteration 900: 0.649620\n",
            "Cost after iteration 1000: 0.648438\n",
            "Cost after iteration 1100: 0.647507\n",
            "Cost after iteration 1200: 0.646772\n",
            "Cost after iteration 1300: 0.646192\n",
            "Cost after iteration 1400: 0.645733\n",
            "Cost after iteration 1500: 0.645370\n",
            "Cost after iteration 1600: 0.645082\n",
            "Cost after iteration 1700: 0.644854\n",
            "Cost after iteration 1800: 0.644674\n",
            "Cost after iteration 1900: 0.644530\n",
            "train accuracy: 65.55023923444976 %\n",
            "test accuracy: 34.0 %\n"
          ]
        }
      ]
    },
    {
      "cell_type": "code",
      "source": [
        "# Example of a picture that was wrongly classified.\n",
        "index = 1\n",
        "plt.imshow(test_set_x_orig[index].reshape((num_px, num_px, 3)))\n",
        "print (\"y = \" + str(test_set_y[0,index]) + \", you predicted that it is a \\\"\" + classes[int(logistic_regression_model['Y_prediction_test'][0,index])].decode(\"utf-8\") +  \"\\\" picture.\")"
      ],
      "metadata": {
        "colab": {
          "base_uri": "https://localhost:8080/",
          "height": 449
        },
        "id": "XuXBwCpFfLFS",
        "outputId": "0ae090f6-6f30-4bf1-c8cf-7723b5d05d52"
      },
      "execution_count": 43,
      "outputs": [
        {
          "output_type": "stream",
          "name": "stdout",
          "text": [
            "y = 1, you predicted that it is a \"non-cat\" picture.\n"
          ]
        },
        {
          "output_type": "display_data",
          "data": {
            "text/plain": [
              "<Figure size 640x480 with 1 Axes>"
            ],
            "image/png": "[encoded data removed]"
          },
          "metadata": {}
        }
      ]
    },
    {
      "cell_type": "code",
      "source": [
        "# Plot learning curve (with costs)\n",
        "costs = np.squeeze(logistic_regression_model['costs'])\n",
        "plt.plot(costs)\n",
        "plt.ylabel('cost')\n",
        "plt.xlabel('iterations (per hundreds)')\n",
        "plt.title(\"Learning rate =\" + str(logistic_regression_model[\"learning_rate\"]))\n",
        "plt.show()"
      ],
      "metadata": {
        "id": "4Q9XrwmV9ees",
        "outputId": "77c8274f-ac74-4592-f21e-5e60d9d9f610",
        "colab": {
          "base_uri": "https://localhost:8080/",
          "height": 472
        }
      },
      "execution_count": 44,
      "outputs": [
        {
          "output_type": "display_data",
          "data": {
            "text/plain": [
              "<Figure size 640x480 with 1 Axes>"
            ],
            "image/png": "[encoded data removed]"
          },
          "metadata": {}
        }
      ]
    },
    {
      "cell_type": "code",
      "source": [
        "learning_rates = [0.01, 0.001, 0.0001]\n",
        "models = {}\n",
        "\n",
        "for lr in learning_rates:\n",
        "    print (\"Training a model with learning rate: \" + str(lr))\n",
        "    models[str(lr)] = model(train_set_x_flatten, train_set_y, test_set_x_flatten, test_set_y, num_iterations=2000, learning_rate=0.0001, print_cost=True)\n",
        "    print ('\\n' + \"-------------------------------------------------------\" + '\\n')\n",
        "\n",
        "for lr in learning_rates:\n",
        "    plt.plot(np.squeeze(models[str(lr)][\"costs\"]), label=str(models[str(lr)][\"learning_rate\"]))\n",
        "\n",
        "plt.ylabel('cost')\n",
        "plt.xlabel('iterations (hundreds)')\n",
        "\n",
        "legend = plt.legend(loc='upper center', shadow=True)\n",
        "frame = legend.get_frame()\n",
        "frame.set_facecolor('0.90')\n",
        "plt.show()"
      ],
      "metadata": {
        "id": "fxc9bXkt9h4G",
        "outputId": "6a149334-eb05-4ed0-9f72-64f41809f505",
        "colab": {
          "base_uri": "https://localhost:8080/",
          "height": 1000
        }
      },
      "execution_count": 29,
      "outputs": [
        {
          "output_type": "stream",
          "name": "stdout",
          "text": [
            "Training a model with learning rate: 0.01\n",
            "Cost after iteration 0: 0.693147\n",
            "Cost after iteration 100: 0.643677\n",
            "Cost after iteration 200: 0.635737\n",
            "Cost after iteration 300: 0.628572\n",
            "Cost after iteration 400: 0.622040\n",
            "Cost after iteration 500: 0.616029\n",
            "Cost after iteration 600: 0.610455\n",
            "Cost after iteration 700: 0.605248\n",
            "Cost after iteration 800: 0.600354\n",
            "Cost after iteration 900: 0.595729\n",
            "Cost after iteration 1000: 0.591339\n",
            "Cost after iteration 1100: 0.587153\n",
            "Cost after iteration 1200: 0.583149\n",
            "Cost after iteration 1300: 0.579307\n",
            "Cost after iteration 1400: 0.575611\n",
            "Cost after iteration 1500: 0.572046\n",
            "Cost after iteration 1600: 0.568601\n",
            "Cost after iteration 1700: 0.565266\n",
            "Cost after iteration 1800: 0.562032\n",
            "Cost after iteration 1900: 0.558891\n",
            "train accuracy: 71.29186602870814 %\n",
            "test accuracy: 40.0 %\n",
            "\n",
            "-------------------------------------------------------\n",
            "\n",
            "Training a model with learning rate: 0.001\n",
            "Cost after iteration 0: 0.693147\n",
            "Cost after iteration 100: 0.643677\n",
            "Cost after iteration 200: 0.635737\n",
            "Cost after iteration 300: 0.628572\n",
            "Cost after iteration 400: 0.622040\n",
            "Cost after iteration 500: 0.616029\n",
            "Cost after iteration 600: 0.610455\n",
            "Cost after iteration 700: 0.605248\n",
            "Cost after iteration 800: 0.600354\n",
            "Cost after iteration 900: 0.595729\n",
            "Cost after iteration 1000: 0.591339\n",
            "Cost after iteration 1100: 0.587153\n",
            "Cost after iteration 1200: 0.583149\n",
            "Cost after iteration 1300: 0.579307\n",
            "Cost after iteration 1400: 0.575611\n",
            "Cost after iteration 1500: 0.572046\n",
            "Cost after iteration 1600: 0.568601\n",
            "Cost after iteration 1700: 0.565266\n",
            "Cost after iteration 1800: 0.562032\n",
            "Cost after iteration 1900: 0.558891\n",
            "train accuracy: 71.29186602870814 %\n",
            "test accuracy: 40.0 %\n",
            "\n",
            "-------------------------------------------------------\n",
            "\n",
            "Training a model with learning rate: 0.0001\n",
            "Cost after iteration 0: 0.693147\n",
            "Cost after iteration 100: 0.643677\n",
            "Cost after iteration 200: 0.635737\n",
            "Cost after iteration 300: 0.628572\n",
            "Cost after iteration 400: 0.622040\n",
            "Cost after iteration 500: 0.616029\n",
            "Cost after iteration 600: 0.610455\n",
            "Cost after iteration 700: 0.605248\n",
            "Cost after iteration 800: 0.600354\n",
            "Cost after iteration 900: 0.595729\n",
            "Cost after iteration 1000: 0.591339\n",
            "Cost after iteration 1100: 0.587153\n",
            "Cost after iteration 1200: 0.583149\n",
            "Cost after iteration 1300: 0.579307\n",
            "Cost after iteration 1400: 0.575611\n",
            "Cost after iteration 1500: 0.572046\n",
            "Cost after iteration 1600: 0.568601\n",
            "Cost after iteration 1700: 0.565266\n",
            "Cost after iteration 1800: 0.562032\n",
            "Cost after iteration 1900: 0.558891\n",
            "train accuracy: 71.29186602870814 %\n",
            "test accuracy: 40.0 %\n",
            "\n",
            "-------------------------------------------------------\n",
            "\n"
          ]
        },
        {
          "output_type": "display_data",
          "data": {
            "text/plain": [
              "<Figure size 640x480 with 1 Axes>"
            ],
            "image/png": "[encoded data removed]"
          },
          "metadata": {}
        }
      ]
    },
    {
      "cell_type": "code",
      "source": [
        "# change this to the name of your image file\n",
        "my_image = \"my_image.jpg\"\n",
        "\n",
        "# We preprocess the image to fit your algorithm.\n",
        "fname = \"images/\" + my_image\n",
        "image = np.array(Image.open(fname).resize((num_px, num_px)))\n",
        "plt.imshow(image)\n",
        "image = image / 255.\n",
        "image = image.reshape((1, num_px * num_px * 3)).T\n",
        "my_predicted_image = predict(logistic_regression_model[\"w\"], logistic_regression_model[\"b\"], image)\n",
        "\n",
        "print(\"y = \" + str(np.squeeze(my_predicted_image)) + \", your algorithm predicts a \\\"\" + classes[int(np.squeeze(my_predicted_image)),].decode(\"utf-8\") +  \"\\\" picture.\")"
      ],
      "metadata": {
        "id": "__UEF41i93-Z",
        "outputId": "6d67243b-7925-4201-e517-9ccd81c162ff",
        "colab": {
          "base_uri": "https://localhost:8080/",
          "height": 449
        }
      },
      "execution_count": 31,
      "outputs": [
        {
          "output_type": "stream",
          "name": "stdout",
          "text": [
            "y = 0.0, your algorithm predicts a \"non-cat\" picture.\n"
          ]
        },
        {
          "output_type": "display_data",
          "data": {
            "text/plain": [
              "<Figure size 640x480 with 1 Axes>"
            ],
            "image/png": "[encoded data removed]"
          },
          "metadata": {}
        }
      ]
    }
  ]
}